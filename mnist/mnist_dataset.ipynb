{
  "nbformat": 4,
  "nbformat_minor": 0,
  "metadata": {
    "colab": {
      "name": "Session3A-MNIST-Improve-Accuracy.ipynb",
      "version": "0.3.2",
      "provenance": [],
      "collapsed_sections": []
    },
    "kernelspec": {
      "name": "python3",
      "display_name": "Python 3"
    },
    "accelerator": "GPU"
  },
  "cells": [
    {
      "metadata": {
        "id": "aNyZv-Ec52ot",
        "colab_type": "text"
      },
      "cell_type": "markdown",
      "source": [
        "# **Import Libraries and modules**"
      ]
    },
    {
      "metadata": {
        "id": "3m3w1Cw49Zkt",
        "colab_type": "code",
        "colab": {
          "base_uri": "https://localhost:8080/",
          "height": 34
        },
        "outputId": "465c68b8-e5bc-4893-f7be-7b2c729e1a85"
      },
      "cell_type": "code",
      "source": [
        "# https://keras.io/\n",
        "!pip install -q keras\n",
        "import keras"
      ],
      "execution_count": 1,
      "outputs": [
        {
          "output_type": "stream",
          "text": [
            "Using TensorFlow backend.\n"
          ],
          "name": "stderr"
        }
      ]
    },
    {
      "metadata": {
        "id": "Eso6UHE080D4",
        "colab_type": "code",
        "colab": {}
      },
      "cell_type": "code",
      "source": [
        "import numpy as np\n",
        "\n",
        "from keras.models import Sequential\n",
        "from keras.layers import Dense, Dropout, Activation, Flatten, Add\n",
        "from keras.layers import Conv2D, MaxPooling2D\n",
        "from keras.utils import np_utils\n",
        "\n",
        "from keras.datasets import mnist"
      ],
      "execution_count": 0,
      "outputs": []
    },
    {
      "metadata": {
        "id": "zByEi95J86RD",
        "colab_type": "text"
      },
      "cell_type": "markdown",
      "source": [
        "### Load pre-shuffled MNIST data into train and test sets"
      ]
    },
    {
      "metadata": {
        "id": "7eRM0QWN83PV",
        "colab_type": "code",
        "colab": {
          "base_uri": "https://localhost:8080/",
          "height": 51
        },
        "outputId": "13b1751c-dba4-48e2-9096-98ed1fe99287"
      },
      "cell_type": "code",
      "source": [
        "(X_train, y_train), (X_test, y_test) = mnist.load_data()"
      ],
      "execution_count": 3,
      "outputs": [
        {
          "output_type": "stream",
          "text": [
            "Downloading data from https://s3.amazonaws.com/img-datasets/mnist.npz\n",
            "11493376/11490434 [==============================] - 2s 0us/step\n"
          ],
          "name": "stdout"
        }
      ]
    },
    {
      "metadata": {
        "id": "4a4Be72j8-ZC",
        "colab_type": "code",
        "colab": {
          "base_uri": "https://localhost:8080/",
          "height": 299
        },
        "outputId": "4f00143c-0667-4f57-885a-322c61a06ba3"
      },
      "cell_type": "code",
      "source": [
        "print (X_train.shape)\n",
        "from matplotlib import pyplot as plt\n",
        "%matplotlib inline\n",
        "plt.imshow(X_train[0])"
      ],
      "execution_count": 4,
      "outputs": [
        {
          "output_type": "stream",
          "text": [
            "(60000, 28, 28)\n"
          ],
          "name": "stdout"
        },
        {
          "output_type": "execute_result",
          "data": {
            "text/plain": [
              "<matplotlib.image.AxesImage at 0x7f921a773ef0>"
            ]
          },
          "metadata": {
            "tags": []
          },
          "execution_count": 4
        },
        {
          "output_type": "display_data",
          "data": {
            "image/png": "[encoded data removed]",
            "text/plain": [
              "<matplotlib.figure.Figure at 0x7f927b5f50f0>"
            ]
          },
          "metadata": {
            "tags": []
          }
        }
      ]
    },
    {
      "metadata": {
        "id": "dkmprriw9AnZ",
        "colab_type": "code",
        "colab": {}
      },
      "cell_type": "code",
      "source": [
        "X_train = X_train.reshape(X_train.shape[0], 28, 28,1)\n",
        "X_test = X_test.reshape(X_test.shape[0], 28, 28,1)"
      ],
      "execution_count": 0,
      "outputs": []
    },
    {
      "metadata": {
        "id": "X2m4YS4E9CRh",
        "colab_type": "code",
        "colab": {}
      },
      "cell_type": "code",
      "source": [
        "X_train = X_train.astype('float32')\n",
        "X_test = X_test.astype('float32')\n",
        "X_train /= 255\n",
        "X_test /= 255"
      ],
      "execution_count": 0,
      "outputs": []
    },
    {
      "metadata": {
        "id": "0Mn0vAYD9DvB",
        "colab_type": "code",
        "colab": {
          "base_uri": "https://localhost:8080/",
          "height": 34
        },
        "outputId": "4806880e-4f88-4d88-d184-7696bff03f4f"
      },
      "cell_type": "code",
      "source": [
        "y_train[:10]"
      ],
      "execution_count": 7,
      "outputs": [
        {
          "output_type": "execute_result",
          "data": {
            "text/plain": [
              "array([5, 0, 4, 1, 9, 2, 1, 3, 1, 4], dtype=uint8)"
            ]
          },
          "metadata": {
            "tags": []
          },
          "execution_count": 7
        }
      ]
    },
    {
      "metadata": {
        "id": "ZG8JiXR39FHC",
        "colab_type": "code",
        "colab": {}
      },
      "cell_type": "code",
      "source": [
        "# Convert 1-dimensional class arrays to 10-dimensional class matrices\n",
        "Y_train = np_utils.to_categorical(y_train, 10)\n",
        "Y_test = np_utils.to_categorical(y_test, 10)"
      ],
      "execution_count": 0,
      "outputs": []
    },
    {
      "metadata": {
        "id": "fYlFRvKS9HMB",
        "colab_type": "code",
        "colab": {
          "base_uri": "https://localhost:8080/",
          "height": 187
        },
        "outputId": "415932a0-6631-4cc8-c437-1f4a4c2f092e"
      },
      "cell_type": "code",
      "source": [
        "Y_train[:10]\n"
      ],
      "execution_count": 9,
      "outputs": [
        {
          "output_type": "execute_result",
          "data": {
            "text/plain": [
              "array([[0., 0., 0., 0., 0., 1., 0., 0., 0., 0.],\n",
              "       [1., 0., 0., 0., 0., 0., 0., 0., 0., 0.],\n",
              "       [0., 0., 0., 0., 1., 0., 0., 0., 0., 0.],\n",
              "       [0., 1., 0., 0., 0., 0., 0., 0., 0., 0.],\n",
              "       [0., 0., 0., 0., 0., 0., 0., 0., 0., 1.],\n",
              "       [0., 0., 1., 0., 0., 0., 0., 0., 0., 0.],\n",
              "       [0., 1., 0., 0., 0., 0., 0., 0., 0., 0.],\n",
              "       [0., 0., 0., 1., 0., 0., 0., 0., 0., 0.],\n",
              "       [0., 1., 0., 0., 0., 0., 0., 0., 0., 0.],\n",
              "       [0., 0., 0., 0., 1., 0., 0., 0., 0., 0.]], dtype=float32)"
            ]
          },
          "metadata": {
            "tags": []
          },
          "execution_count": 9
        }
      ]
    },
    {
      "metadata": {
        "id": "osKqT73Q9JJB",
        "colab_type": "code",
        "colab": {}
      },
      "cell_type": "code",
      "source": [
        "from keras.layers import Activation\n",
        "model = Sequential()\n",
        "\n",
        " \n",
        "model.add(Conv2D(32, (5, 5), activation='relu', input_shape=(28,28,1), name='conv2d_1'))\n",
        "model.add(Conv2D(10, (3,3), name='conv2d_3'))\n",
        "model.add(MaxPooling2D(2, 2))\n",
        "model.add(Dropout(0.25))\n",
        "model.add(Flatten())\n",
        "model.add(Dropout(0.5))\n",
        "model.add(Dense(10, activation = 'softmax'))"
      ],
      "execution_count": 0,
      "outputs": []
    },
    {
      "metadata": {
        "id": "TzdAYg1k9K7Z",
        "colab_type": "code",
        "colab": {
          "base_uri": "https://localhost:8080/",
          "height": 374
        },
        "outputId": "3cb51db0-480f-42c1-8f24-7692c1f7ed5b"
      },
      "cell_type": "code",
      "source": [
        "model.summary()"
      ],
      "execution_count": 199,
      "outputs": [
        {
          "output_type": "stream",
          "text": [
            "_________________________________________________________________\n",
            "Layer (type)                 Output Shape              Param #   \n",
            "=================================================================\n",
            "conv2d_1 (Conv2D)            (None, 24, 24, 32)        832       \n",
            "_________________________________________________________________\n",
            "conv2d_3 (Conv2D)            (None, 22, 22, 10)        2890      \n",
            "_________________________________________________________________\n",
            "max_pooling2d_37 (MaxPooling (None, 11, 11, 10)        0         \n",
            "_________________________________________________________________\n",
            "dropout_18 (Dropout)         (None, 11, 11, 10)        0         \n",
            "_________________________________________________________________\n",
            "flatten_25 (Flatten)         (None, 1210)              0         \n",
            "_________________________________________________________________\n",
            "dropout_19 (Dropout)         (None, 1210)              0         \n",
            "_________________________________________________________________\n",
            "dense_32 (Dense)             (None, 10)                12110     \n",
            "=================================================================\n",
            "Total params: 15,832\n",
            "Trainable params: 15,832\n",
            "Non-trainable params: 0\n",
            "_________________________________________________________________\n"
          ],
          "name": "stdout"
        }
      ]
    },
    {
      "metadata": {
        "id": "Zp6SuGrL9M3h",
        "colab_type": "code",
        "colab": {}
      },
      "cell_type": "code",
      "source": [
        "model.compile(loss='categorical_crossentropy',\n",
        "             optimizer='Adam',\n",
        "             metrics=['accuracy'])"
      ],
      "execution_count": 0,
      "outputs": []
    },
    {
      "metadata": {
        "id": "4xWoKhPY9Of5",
        "colab_type": "code",
        "colab": {
          "base_uri": "https://localhost:8080/",
          "height": 1717
        },
        "outputId": "3c14f641-5817-4a4a-b64f-62c8e429738e"
      },
      "cell_type": "code",
      "source": [
        "history = model.fit(X_train, Y_train, batch_size=200, epochs=50, verbose=1)"
      ],
      "execution_count": 214,
      "outputs": [
        {
          "output_type": "stream",
          "text": [
            "Epoch 1/50\n",
            "60000/60000 [==============================] - 4s 65us/step - loss: 0.0285 - acc: 0.9906\n",
            "Epoch 2/50\n",
            "60000/60000 [==============================] - 4s 63us/step - loss: 0.0274 - acc: 0.9913\n",
            "Epoch 3/50\n",
            "60000/60000 [==============================] - 4s 64us/step - loss: 0.0283 - acc: 0.9903\n",
            "Epoch 4/50\n",
            "60000/60000 [==============================] - 4s 63us/step - loss: 0.0277 - acc: 0.9903\n",
            "Epoch 5/50\n",
            "60000/60000 [==============================] - 4s 63us/step - loss: 0.0291 - acc: 0.9901\n",
            "Epoch 6/50\n",
            "60000/60000 [==============================] - 4s 64us/step - loss: 0.0284 - acc: 0.9906\n",
            "Epoch 7/50\n",
            "60000/60000 [==============================] - 4s 64us/step - loss: 0.0276 - acc: 0.9909\n",
            "Epoch 8/50\n",
            "60000/60000 [==============================] - 4s 64us/step - loss: 0.0284 - acc: 0.9906\n",
            "Epoch 9/50\n",
            "60000/60000 [==============================] - 4s 64us/step - loss: 0.0292 - acc: 0.9903\n",
            "Epoch 10/50\n",
            "60000/60000 [==============================] - 4s 63us/step - loss: 0.0276 - acc: 0.9906\n",
            "Epoch 11/50\n",
            "60000/60000 [==============================] - 4s 63us/step - loss: 0.0270 - acc: 0.9910\n",
            "Epoch 12/50\n",
            "60000/60000 [==============================] - 4s 63us/step - loss: 0.0274 - acc: 0.9905\n",
            "Epoch 13/50\n",
            "60000/60000 [==============================] - 4s 63us/step - loss: 0.0271 - acc: 0.9905\n",
            "Epoch 14/50\n",
            "60000/60000 [==============================] - 4s 63us/step - loss: 0.0273 - acc: 0.9910\n",
            "Epoch 15/50\n",
            "60000/60000 [==============================] - 4s 63us/step - loss: 0.0257 - acc: 0.9914\n",
            "Epoch 16/50\n",
            "60000/60000 [==============================] - 4s 63us/step - loss: 0.0287 - acc: 0.9902\n",
            "Epoch 17/50\n",
            "60000/60000 [==============================] - 4s 63us/step - loss: 0.0284 - acc: 0.9906\n",
            "Epoch 18/50\n",
            "60000/60000 [==============================] - 4s 64us/step - loss: 0.0284 - acc: 0.9903\n",
            "Epoch 19/50\n",
            "60000/60000 [==============================] - 4s 64us/step - loss: 0.0276 - acc: 0.9906\n",
            "Epoch 20/50\n",
            "60000/60000 [==============================] - 4s 64us/step - loss: 0.0278 - acc: 0.9908\n",
            "Epoch 21/50\n",
            "60000/60000 [==============================] - 4s 64us/step - loss: 0.0266 - acc: 0.9908\n",
            "Epoch 22/50\n",
            "60000/60000 [==============================] - 4s 64us/step - loss: 0.0267 - acc: 0.9908\n",
            "Epoch 23/50\n",
            "60000/60000 [==============================] - 4s 63us/step - loss: 0.0265 - acc: 0.9911\n",
            "Epoch 24/50\n",
            "60000/60000 [==============================] - 4s 63us/step - loss: 0.0282 - acc: 0.9905\n",
            "Epoch 25/50\n",
            "60000/60000 [==============================] - 4s 63us/step - loss: 0.0254 - acc: 0.9913\n",
            "Epoch 26/50\n",
            "60000/60000 [==============================] - 4s 63us/step - loss: 0.0284 - acc: 0.9908\n",
            "Epoch 27/50\n",
            "60000/60000 [==============================] - 4s 63us/step - loss: 0.0260 - acc: 0.9914\n",
            "Epoch 28/50\n",
            "60000/60000 [==============================] - 4s 63us/step - loss: 0.0269 - acc: 0.9911\n",
            "Epoch 29/50\n",
            "60000/60000 [==============================] - 4s 63us/step - loss: 0.0265 - acc: 0.9910\n",
            "Epoch 30/50\n",
            "60000/60000 [==============================] - 4s 63us/step - loss: 0.0260 - acc: 0.9909\n",
            "Epoch 31/50\n",
            "60000/60000 [==============================] - 4s 63us/step - loss: 0.0294 - acc: 0.9903\n",
            "Epoch 32/50\n",
            "60000/60000 [==============================] - 4s 63us/step - loss: 0.0281 - acc: 0.9907\n",
            "Epoch 33/50\n",
            "60000/60000 [==============================] - 4s 62us/step - loss: 0.0270 - acc: 0.9908\n",
            "Epoch 34/50\n",
            "60000/60000 [==============================] - 4s 63us/step - loss: 0.0265 - acc: 0.9910\n",
            "Epoch 35/50\n",
            "60000/60000 [==============================] - 4s 62us/step - loss: 0.0270 - acc: 0.9912\n",
            "Epoch 36/50\n",
            "60000/60000 [==============================] - 4s 62us/step - loss: 0.0280 - acc: 0.9911\n",
            "Epoch 37/50\n",
            "60000/60000 [==============================] - 4s 62us/step - loss: 0.0275 - acc: 0.9910\n",
            "Epoch 38/50\n",
            "60000/60000 [==============================] - 4s 62us/step - loss: 0.0281 - acc: 0.9904\n",
            "Epoch 39/50\n",
            "60000/60000 [==============================] - 4s 62us/step - loss: 0.0273 - acc: 0.9911\n",
            "Epoch 40/50\n",
            "60000/60000 [==============================] - 4s 62us/step - loss: 0.0271 - acc: 0.9907\n",
            "Epoch 41/50\n",
            "60000/60000 [==============================] - 4s 62us/step - loss: 0.0279 - acc: 0.9906\n",
            "Epoch 42/50\n",
            "60000/60000 [==============================] - 4s 62us/step - loss: 0.0256 - acc: 0.9911\n",
            "Epoch 43/50\n",
            "60000/60000 [==============================] - 4s 62us/step - loss: 0.0264 - acc: 0.9911\n",
            "Epoch 44/50\n",
            "60000/60000 [==============================] - 4s 62us/step - loss: 0.0261 - acc: 0.9910\n",
            "Epoch 45/50\n",
            "60000/60000 [==============================] - 4s 62us/step - loss: 0.0265 - acc: 0.9911\n",
            "Epoch 46/50\n",
            "60000/60000 [==============================] - 4s 62us/step - loss: 0.0268 - acc: 0.9906\n",
            "Epoch 47/50\n",
            "60000/60000 [==============================] - 4s 62us/step - loss: 0.0283 - acc: 0.9908\n",
            "Epoch 48/50\n",
            "60000/60000 [==============================] - 4s 62us/step - loss: 0.0279 - acc: 0.9910\n",
            "Epoch 49/50\n",
            "60000/60000 [==============================] - 4s 62us/step - loss: 0.0269 - acc: 0.9913\n",
            "Epoch 50/50\n",
            "60000/60000 [==============================] - 4s 62us/step - loss: 0.0279 - acc: 0.9906\n"
          ],
          "name": "stdout"
        }
      ]
    },
    {
      "metadata": {
        "id": "AtsH-lLk-eLb",
        "colab_type": "code",
        "colab": {}
      },
      "cell_type": "code",
      "source": [
        "score = model.evaluate(X_test, Y_test, verbose=0)"
      ],
      "execution_count": 0,
      "outputs": []
    },
    {
      "metadata": {
        "id": "mkX8JMv79q9r",
        "colab_type": "code",
        "colab": {
          "base_uri": "https://localhost:8080/",
          "height": 68
        },
        "outputId": "f77f2f06-6a19-4ee6-b403-dca06b6c6185"
      },
      "cell_type": "code",
      "source": [
        "print(score)\n",
        "\n",
        "print(\"Test Loss %s\"%score[0])\n",
        "print(\"Test Accuracy %s\"%(score[1]))\n"
      ],
      "execution_count": 221,
      "outputs": [
        {
          "output_type": "stream",
          "text": [
            "[0.02234255842317325, 0.9924]\n",
            "Test Loss 0.02234255842317325\n",
            "Test Accuracy 0.9924\n"
          ],
          "name": "stdout"
        }
      ]
    },
    {
      "metadata": {
        "id": "OCWoJkwE9suh",
        "colab_type": "code",
        "colab": {}
      },
      "cell_type": "code",
      "source": [
        "y_pred = model.predict(X_test)"
      ],
      "execution_count": 0,
      "outputs": []
    },
    {
      "metadata": {
        "id": "Ym7iCFBm9uBs",
        "colab_type": "code",
        "colab": {
          "base_uri": "https://localhost:8080/",
          "height": 340
        },
        "outputId": "d3836309-4f10-4076-adc8-85e37f40c405"
      },
      "cell_type": "code",
      "source": [
        "print(y_pred[:9])\n",
        "print(y_test[:9])"
      ],
      "execution_count": 17,
      "outputs": [
        {
          "output_type": "stream",
          "text": [
            "[[2.3495966e-06 1.0541997e-09 1.8009272e-05 3.7394366e-03 1.4230692e-08\n",
            "  1.5137353e-05 7.1884790e-11 9.9615139e-01 1.1423729e-06 7.2487099e-05]\n",
            " [3.2965161e-03 1.4903025e-05 9.8420030e-01 1.1269612e-03 1.0076540e-10\n",
            "  2.1998018e-03 7.6268637e-03 1.0002882e-12 1.5347390e-03 6.1351035e-10]\n",
            " [3.2555040e-06 9.8882651e-01 5.3820885e-03 6.5238768e-04 8.9756242e-04\n",
            "  8.5573745e-05 3.7933741e-04 3.1346865e-03 6.2264223e-04 1.5904032e-05]\n",
            " [9.9984324e-01 2.5096441e-11 2.8614722e-05 5.8413900e-07 2.2340949e-08\n",
            "  1.7105283e-05 9.5546275e-05 6.1051455e-06 3.8252056e-06 4.9125424e-06]\n",
            " [9.1548696e-05 1.3143838e-07 3.4996898e-05 1.0270422e-05 9.9387324e-01\n",
            "  8.3596897e-06 7.7484008e-05 4.4673879e-04 1.2556557e-04 5.3315978e-03]\n",
            " [1.6769513e-06 9.8993582e-01 1.0952689e-03 3.8195658e-04 6.0212164e-04\n",
            "  1.3218289e-05 2.8043572e-05 6.1246147e-03 1.7427455e-03 7.4631891e-05]\n",
            " [1.1790677e-06 6.3950495e-07 2.7476074e-06 3.3675256e-05 9.8692167e-01\n",
            "  3.0401582e-04 4.0974496e-06 1.0690719e-03 9.7172130e-03 1.9456940e-03]\n",
            " [3.0129030e-07 4.3865549e-03 8.2546663e-05 1.2594529e-03 9.2847422e-03\n",
            "  5.3491741e-03 1.9680660e-05 7.6085882e-04 7.8698999e-04 9.7806966e-01]\n",
            " [2.0117043e-04 2.6039888e-08 1.1188425e-05 1.5425161e-07 4.3501364e-06\n",
            "  1.7215283e-01 8.2736588e-01 1.1319279e-08 2.4028501e-04 2.4149327e-05]]\n",
            "[7 2 1 0 4 1 4 9 5]\n"
          ],
          "name": "stdout"
        }
      ]
    },
    {
      "metadata": {
        "id": "CT--y98_dr2T",
        "colab_type": "code",
        "colab": {}
      },
      "cell_type": "code",
      "source": [
        "layer_dict = dict([(layer.name, layer) for layer in model.layers])"
      ],
      "execution_count": 0,
      "outputs": []
    },
    {
      "metadata": {
        "id": "2GY4Upv4dsUR",
        "colab_type": "code",
        "colab": {
          "base_uri": "https://localhost:8080/",
          "height": 839
        },
        "outputId": "dabfb3a3-deaf-4a8f-c6a9-eb77aa63a3c8"
      },
      "cell_type": "code",
      "source": [
        "import numpy as np\n",
        "from matplotlib import pyplot as plt\n",
        "from keras import backend as K\n",
        "%matplotlib inline\n",
        "# util function to convert a tensor into a valid image\n",
        "def deprocess_image(x):\n",
        "    # normalize tensor: center on 0., ensure std is 0.1\n",
        "    x -= x.mean()\n",
        "    x /= (x.std() + 1e-5)\n",
        "    x *= 0.1\n",
        "\n",
        "    # clip to [0, 1]\n",
        "    x += 0.5\n",
        "    x = np.clip(x, 0, 1)\n",
        "\n",
        "    # convert to RGB array\n",
        "    x *= 255\n",
        "    #x = x.transpose((1, 2, 0))\n",
        "    x = np.clip(x, 0, 255).astype('uint8')\n",
        "    return x\n",
        "\n",
        "def vis_img_in_filter(img = np.array(X_train[2]).reshape((1, 28, 28, 1)).astype(np.float64), \n",
        "                      layer_name = 'conv2d_1'):\n",
        "    layer_output = layer_dict[layer_name].output\n",
        "    img_ascs = list()\n",
        "    for filter_index in range(layer_output.shape[3]):\n",
        "        # build a loss function that maximizes the activation\n",
        "        # of the nth filter of the layer considered\n",
        "        loss = K.mean(layer_output[:, :, :, filter_index])\n",
        "\n",
        "        # compute the gradient of the input picture wrt this loss\n",
        "        grads = K.gradients(loss, model.input)[0]\n",
        "\n",
        "        # normalization trick: we normalize the gradient\n",
        "        grads /= (K.sqrt(K.mean(K.square(grads))) + 1e-5)\n",
        "\n",
        "        # this function returns the loss and grads given the input picture\n",
        "        iterate = K.function([model.input], [loss, grads])\n",
        "\n",
        "        # step size for gradient ascent\n",
        "        step = 5.\n",
        "\n",
        "        img_asc = np.array(img)\n",
        "        # run gradient ascent for 20 steps\n",
        "        for i in range(20):\n",
        "            loss_value, grads_value = iterate([img_asc])\n",
        "            img_asc += grads_value * step\n",
        "\n",
        "        img_asc = img_asc[0]\n",
        "        img_ascs.append(deprocess_image(img_asc).reshape((28, 28)))\n",
        "        \n",
        "    if layer_output.shape[3] >= 35:\n",
        "        plot_x, plot_y = 6, 6\n",
        "    elif layer_output.shape[3] >= 23:\n",
        "        plot_x, plot_y = 4, 6\n",
        "    elif layer_output.shape[3] >= 11:\n",
        "        plot_x, plot_y = 2, 6\n",
        "    else:\n",
        "        plot_x, plot_y = 1, 2\n",
        "    fig, ax = plt.subplots(plot_x, plot_y, figsize = (12, 12))\n",
        "    ax[0, 0].imshow(img.reshape((28, 28)), cmap = 'gray')\n",
        "    ax[0, 0].set_title('Input image')\n",
        "    fig.suptitle('Input image and %s filters' % (layer_name,))\n",
        "    fig.tight_layout(pad = 0.3, rect = [0, 0, 0.9, 0.9])\n",
        "    for (x, y) in [(i, j) for i in range(plot_x) for j in range(plot_y)]:\n",
        "        if x == 0 and y == 0:\n",
        "            continue\n",
        "        ax[x, y].imshow(img_ascs[x * plot_y + y - 1], cmap = 'gray')\n",
        "        ax[x, y].set_title('filter %d' % (x * plot_y + y - 1))\n",
        "\n",
        "vis_img_in_filter()"
      ],
      "execution_count": 19,
      "outputs": [
        {
          "output_type": "display_data",
          "data": {
            "image/png": "[encoded data removed]",
            "text/plain": [
              "<matplotlib.figure.Figure at 0x7f9211b28208>"
            ]
          },
          "metadata": {
            "tags": []
          }
        }
      ]
    },
    {
      "metadata": {
        "id": "9tvptcn8dxvp",
        "colab_type": "code",
        "colab": {}
      },
      "cell_type": "code",
      "source": [
        ""
      ],
      "execution_count": 0,
      "outputs": []
    }
  ]
}